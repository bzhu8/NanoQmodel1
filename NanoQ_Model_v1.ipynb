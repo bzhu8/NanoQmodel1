{
  "nbformat": 4,
  "nbformat_minor": 0,
  "metadata": {
    "colab": {
      "provenance": [],
      "gpuType": "T4"
    },
    "kernelspec": {
      "name": "python3",
      "display_name": "Python 3"
    },
    "language_info": {
      "name": "python"
    },
    "accelerator": "GPU"
  },
  "cells": [
    {
      "cell_type": "markdown",
      "source": [
        "<a href=\"https://colab.research.google.com/github/bzhu8/NanoQmodel1/blob/main/NanoQ_Model_v1.ipynb\" target=\"_parent\"><img src=\"https://colab.research.google.com/assets/colab-badge.svg\" alt=\"Open In Colab\"/></a>",
        "\n",
        "**NanoQ-model 1.0: An end-to-end trained protein language model predicts the fluorophore quenching efficiency of nano-Q-body biosensor (beta test v2).**\n",
        "Update: Jan. 25th, 2025\n",
        "\n",
        "All the information in this note is for the internal test of the NanoQ-model-1.\n",
        "\n",
        "To use or test this model, you need to admit to not copy and transfer the model to any other locations before the official realease of the model.\n",
        "\n",
        "Usage guide:\n",
        "1. Run the Step 1 and Step 2 cells to prepare the necessary environment and the model files.\n",
        "2. Input the CDR1 and CDR3 sequence with a space between each amino acid, and a [SEP] between CDR1 and CDR3. The sequence in including the 3 amino acid framework should be used to repeat the prediction results in the manuscript.\n",
        "\n",
        " Example sequence: A S G T I F Q V G S V G W [SEP] Y C A A L G Q V S E Y N S A S Y E W T Y P Y W G\n",
        "\n",
        " Format example: A S G (CDR1 seuqnece) M G W [SEP] Y C A (CDR3 seuqnece) Y W G\n",
        "3. Run the Step 3 cell to predict the probability of the high quenching efficiency.\n",
        "\n",
        "**Colab Version Bo Zhu and co-authors @ Science Tokyo**\n",
        "(License: CC BY-NC-ND 4.0 Deed)\n",
        "\n",
        "**Reference**: **Inoue**#, **Zhu**#, (other 5 co-authors), & Kitaguchi, Prediction of single-mutation effects for fluorescent immunosensor engineering with an end-to-end trained protein language model, in preparation. (#Equal contributions)"
      ],
      "metadata": {
        "id": "VsJ7oOiz4_SF"
      }
    },
    {
      "cell_type": "code",
      "source": [
        "#@title Step 1: Install Transformers (Please click 'runtime restart' button if appears) < 1 min\n",
        "#Change to transformers version 4.28.1\n",
        "%%capture\n",
        "!pip install transformers==4.28.1\n",
        "#import os\n",
        "#os.kill(os.getpid(), 9)\n",
        "#pwd\n",
        "import transformers\n",
        "print(transformers.__version__)"
      ],
      "metadata": {
        "id": "kM7IJNDZdDlx",
        "collapsed": true,
        "cellView": "form"
      },
      "execution_count": null,
      "outputs": []
    },
    {
      "cell_type": "code",
      "source": [
        "#@title Step 2: Environment preparation + NanoQ-model 1.0 loading ~ 1-2 min.\n",
        "%%capture\n",
        "import transformers\n",
        "import pandas as pd\n",
        "import urllib.request\n",
        "import numpy as np\n",
        "import matplotlib.pyplot as plt\n",
        "import seaborn as sns\n",
        "import re\n",
        "from sklearn.metrics import confusion_matrix, precision_score, recall_score, f1_score, precision_recall_curve, roc_curve, auc\n",
        "from sklearn.model_selection import train_test_split\n",
        "from tqdm.notebook import tqdm\n",
        "\n",
        "\n",
        "import torch\n",
        "import torch.nn as nn\n",
        "import torch.nn.functional as F\n",
        "import torch.optim as optim\n",
        "from transformers import AutoModel, AutoTokenizer\n",
        "\n",
        "#Download NanoQ-model-1.0\n",
        "!wget https://huggingface.co/bzhu8/Qmodel1/resolve/main/230527Qmodel1.pth\n",
        "\n",
        "# BERT tokenizer initiate prot_bert_bfd\n",
        "model_name = \"Rostlab/prot_bert_bfd\"\n",
        "tokenizer = AutoTokenizer.from_pretrained(model_name)\n",
        "\n",
        "# ProtBERT Transformer model Initialization\n",
        "class Transformer(nn.Module):\n",
        "    def __init__(self):\n",
        "        super(Transformer, self).__init__()\n",
        "        self.bert = AutoModel.from_pretrained(\"Rostlab/prot_bert_bfd\").to(device)\n",
        "        self.dropout = nn.Dropout(0.1)\n",
        "        self.linear = nn.Linear(1024, out_features=1)\n",
        "\n",
        "    def forward(self, input_ids, attention_mask):\n",
        "        outputs = self.bert(input_ids, attention_mask=attention_mask)\n",
        "        pooled_output = outputs[1]\n",
        "        pooled_output = self.dropout(pooled_output)\n",
        "        x = self.linear(pooled_output).squeeze()\n",
        "        return x\n",
        "\n",
        "# set device\n",
        "device = torch.device(\"cuda\" if torch.cuda.is_available() else \"cpu\")\n",
        "# define model\n",
        "model = Transformer().to(device)\n",
        "# load end-to-end trained NanoQ-model1.0\n",
        "model_path = '/content/230527Qmodel1.pth'\n",
        "model.load_state_dict(torch.load(model_path))\n",
        "model = model.cpu()\n",
        "max_len = 512"
      ],
      "metadata": {
        "id": "3SMVwdyJWsnz",
        "cellView": "form"
      },
      "execution_count": null,
      "outputs": []
    },
    {
      "cell_type": "code",
      "execution_count": null,
      "metadata": {
        "colab": {
          "base_uri": "https://localhost:8080/"
        },
        "id": "TcCFmq9tVpT_",
        "outputId": "62d88c5d-4894-491d-d75e-7c1b9a3b469e",
        "cellView": "form"
      },
      "outputs": [
        {
          "output_type": "stream",
          "name": "stdout",
          "text": [
            "Quenching probability score = 0.70090234\n",
            "CPU times: user 732 ms, sys: 1.25 ms, total: 733 ms\n",
            "Wall time: 777 ms\n"
          ]
        }
      ],
      "source": [
        "%%time\n",
        "#@title Step 3: Input the CDR1 and CDR3 sequences to predict the quenching efficiency (quenching probability score)\n",
        "\n",
        "CDR = \"A S G Y T F T D Y W M N W [SEP] Y C E S Q S G A Y W G\" #@param {type:\"string\"}\n",
        "\n",
        "sequences = CDR\n",
        "labels = [0.]\n",
        "\n",
        "#create data\n",
        "pred_seq=pd.DataFrame({\"sequence\":sequences, \"label\":labels})\n",
        "pred_seq\n",
        "encodings = tokenizer(list(pred_seq[\"sequence\"]), truncation=True, padding=True, max_length=max_len, return_tensors='pt')\n",
        "\n",
        "# prediction\n",
        "model.eval()\n",
        "with torch.no_grad():\n",
        "    test_inputs = {\n",
        "        'input_ids': encodings['input_ids'],\n",
        "        'attention_mask': encodings['attention_mask'],\n",
        "    }\n",
        "    outputs = model(**test_inputs)\n",
        "predictions = F.sigmoid(outputs).cpu().detach().numpy()\n",
        "\n",
        "# print prediction score (probability score)\n",
        "\n",
        "import sys\n",
        "np.set_printoptions(threshold=sys.maxsize)\n",
        "print('Quenching probability score =', predictions)"
      ]
    }
  ]
}
